{
 "cells": [
  {
   "cell_type": "code",
   "execution_count": 1,
   "id": "visible-raleigh",
   "metadata": {},
   "outputs": [],
   "source": [
    "# A bit of setup\n",
    "import numpy as np\n",
    "import matplotlib.pyplot as plt\n",
    "from matplotlib.colors import ListedColormap\n",
    "\n",
    "%matplotlib inline\n",
    "plt.rcParams['figure.figsize'] = (10.0, 8.0) # set default size of plots\n",
    "plt.rcParams['image.interpolation'] = 'nearest'\n",
    "plt.rcParams['image.cmap'] = 'gray'\n",
    "\n",
    "# Create color maps\n",
    "cmap_list = ['orange', 'cyan', 'cornflowerblue']\n",
    "cmap_bold = ['darkorange', 'c', 'darkblue']\n",
    "cmap_light = ListedColormap(cmap_list)\n",
    "\n",
    "# for auto-reloading external modules\n",
    "# see http://stackoverflow.com/questions/1907993/autoreload-of-modules-in-ipython\n",
    "%load_ext autoreload\n",
    "%autoreload 2"
   ]
  },
  {
   "cell_type": "markdown",
   "id": "signed-spain",
   "metadata": {},
   "source": [
    "<!-- dom:TITLE: Homework 1, PHY 959 -->\n",
    "<!-- dom:AUTHOR: [PHY 959: Machine Learning in Physics]-->\n",
    "\n",
    "\n",
    "# Regularization\n",
    "\n",
    "\n",
    "\n",
    "\n",
    "___\n",
    "***\n",
    "\n",
    "\n",
    "We will explore how choice of loss function and regularization impacts bias vs variance.  Recall that bias is related to the loss found relative to the training data.  And variance is related to the loss found relative to future data.  So the bias-variance tradeoff lies in the problem of overfitting (variance!) vs underfitting (bias!)\n",
    "\n",
    "\n",
    "Recall that bias enters the expected loss equation as the square of the difference between the true function and the expectation of the fitted function for future data:\n",
    "\n",
    "$\\left( E[\\hat{f}_e(x)] - f(x) \\right)^2$\n",
    "\n",
    "To study bias, we will make a polynomial model that has many degrees of freedom.  This should allow us to fit most any distribution.  To exacerbate the problem, we'll add an outlier that will cause the Mean Squared Error (MSE) fit heavily overtrain.\n",
    "\n",
    "Recall that variance enters the expected loss equation as the expectation value (evaluated using future data) of the difference between the fitted function and the expectation of the fitted function for future data.\n",
    "\n",
    "$E_e\\left[ \\left( \\hat{f}_t(x) - E[\\hat{f}_e(x)] \\right)^2 \\right]$\n",
    "\n",
    "To study variance, we will need to train a model and then compare to data that was not included in the training.  If we compare to many random testing data samples, we can look at the distribution of loss and see how large the expected loss is.  \n",
    "\n",
    "___\n",
    "***\n",
    "\n",
    "# Start by making data"
   ]
  },
  {
   "cell_type": "code",
   "execution_count": 2,
   "id": "liquid-translation",
   "metadata": {},
   "outputs": [],
   "source": [
    "# We'll make lots of data this time, so best make a function\n",
    "def makeLinearData(nPts, doSort, doOutlier):\n",
    "    X = np.random.uniform(0,1,nPts)\n",
    "    y = 0.5*X+np.random.randn(nPts)*0.05\n",
    "    \n",
    "    if doSort:\n",
    "        permute = X.argsort()\n",
    "        X=X[permute]\n",
    "        y=y[permute]\n",
    "    \n",
    "    if doOutlier:\n",
    "        y[7] -= 2.5\n",
    "    \n",
    "    return X, y"
   ]
  },
  {
   "cell_type": "code",
   "execution_count": 3,
   "id": "threaded-producer",
   "metadata": {},
   "outputs": [
    {
     "data": {
      "image/png": "[encoded data removed]",
      "text/plain": [
       "<Figure size 720x576 with 1 Axes>"
      ]
     },
     "metadata": {
      "needs_background": "light"
     },
     "output_type": "display_data"
    }
   ],
   "source": [
    "# Build and visualize the data\n",
    "\n",
    "# Make some training data\n",
    "# Don't need formal data\n",
    "nPts = 10\n",
    "np.random.seed(221)\n",
    "Xtrain, ytrain = makeLinearData(nPts,True,True)\n",
    "\n",
    "plt.scatter(Xtrain,ytrain)\n",
    "plt.show()"
   ]
  },
  {
   "cell_type": "markdown",
   "id": "parallel-marketing",
   "metadata": {},
   "source": [
    "---\n",
    "---\n",
    "# Make a polynomial design matrix\n",
    "\n",
    "We want to fit a polynomial to our data, so we need a polynomial design matrix.  We won't always use scikit-learn out of the box, but here we will use the PolynomialFeatures module.  This is just a useful tool that allows you to take one variable ($x$) and create a polynomial sequence:\n",
    "\n",
    "$x+x^2+x^3+x^4+\\cdots$  \n",
    "\n",
    "Note that the design matrix that it builds automatically includes the bias or offset term.  In this cell, we're going to make a 9th order polynomial design matrix."
   ]
  },
  {
   "cell_type": "code",
   "execution_count": 4,
   "id": "executed-fellow",
   "metadata": {},
   "outputs": [
    {
     "name": "stdout",
     "output_type": "stream",
     "text": [
      "[[1.00000000e+00 6.38932933e-02 4.08235293e-03 2.60834973e-04\n",
      "  1.66656054e-05 1.06482042e-06 6.80348831e-08 4.34697274e-09\n",
      "  2.77742404e-10 1.77458769e-11]\n",
      " [1.00000000e+00 8.77121921e-02 7.69342864e-03 6.74807491e-04\n",
      "  5.91888442e-05 5.19158327e-06 4.55365149e-07 3.99410755e-08\n",
      "  3.50331928e-09 3.07283814e-10]\n",
      " [1.00000000e+00 1.20432923e-01 1.45040890e-02 1.74676983e-03\n",
      "  2.10368597e-04 2.53353051e-05 3.05120485e-06 3.67465519e-07\n",
      "  4.42549466e-08 5.32975258e-09]\n",
      " [1.00000000e+00 3.83575558e-01 1.47130209e-01 5.64355518e-02\n",
      "  2.16472983e-02 8.30337451e-03 3.18497151e-03 1.22167722e-03\n",
      "  4.68605523e-04 1.79745625e-04]\n",
      " [1.00000000e+00 5.46570734e-01 2.98739567e-01 1.63282305e-01\n",
      "  8.92453292e-02 4.87788851e-02 2.66611110e-02 1.45721830e-02\n",
      "  7.96472878e-03 4.35328766e-03]\n",
      " [1.00000000e+00 6.03501582e-01 3.64214159e-01 2.19803821e-01\n",
      "  1.32651954e-01 8.00556640e-02 4.83137199e-02 2.91574064e-02\n",
      "  1.75965409e-02 1.06195403e-02]\n",
      " [1.00000000e+00 6.54489716e-01 4.28356789e-01 2.80355113e-01\n",
      "  1.83489538e-01 1.20092016e-01 7.85989894e-02 5.14422303e-02\n",
      "  3.36684107e-02 2.20356286e-02]\n",
      " [1.00000000e+00 7.37589058e-01 5.44037618e-01 4.01276195e-01\n",
      "  2.95976930e-01 2.18309345e-01 1.61022584e-01 1.18768496e-01\n",
      "  8.76023433e-02 6.46145299e-02]\n",
      " [1.00000000e+00 9.64307349e-01 9.29888663e-01 8.96698471e-01\n",
      "  8.64692925e-01 8.33829742e-01 8.04068148e-01 7.75368823e-01\n",
      "  7.47693854e-01 7.21006678e-01]\n",
      " [1.00000000e+00 9.68024818e-01 9.37072048e-01 9.07108998e-01\n",
      "  8.78104023e-01 8.50026487e-01 8.22846735e-01 7.96536061e-01\n",
      "  7.71066675e-01 7.46411677e-01]]\n"
     ]
    }
   ],
   "source": [
    "from sklearn.preprocessing import PolynomialFeatures\n",
    "\n",
    "nDegr = 9 #let's make sure we can hit every point by having enough degrees of freedom\n",
    "\n",
    "xt = np.zeros((Xtrain.size,1))\n",
    "xt[:,0] = Xtrain\n",
    "\n",
    "poly = PolynomialFeatures(degree=nDegr)\n",
    "DM = poly.fit_transform(xt)\n",
    "\n",
    "print(DM)"
   ]
  },
  {
   "cell_type": "markdown",
   "id": "hundred-powell",
   "metadata": {},
   "source": [
    "---\n",
    "---\n",
    "# Fit the data using MSE\n",
    "\n",
    "Let's enjoy the analytical solution of MSE to get a *VERY* overfitted result!\n"
   ]
  },
  {
   "cell_type": "code",
   "execution_count": 5,
   "id": "efficient-graphic",
   "metadata": {},
   "outputs": [
    {
     "name": "stdout",
     "output_type": "stream",
     "text": [
      "[ 1.31870372e+01 -6.18895379e+02  1.11309348e+04 -9.89367772e+04\n",
      "  4.79516169e+05 -1.35440646e+06  2.29244594e+06 -2.28900212e+06\n",
      "  1.24178404e+06 -2.81933707e+05]\n"
     ]
    },
    {
     "data": {
      "image/png": "[encoded data removed]",
      "text/plain": [
       "<Figure size 720x576 with 1 Axes>"
      ]
     },
     "metadata": {
      "needs_background": "light"
     },
     "output_type": "display_data"
    }
   ],
   "source": [
    "#calculate our betas\n",
    "betas = np.linalg.inv(DM.T.dot(DM)).dot(DM.T).dot(ytrain)\n",
    "\n",
    "#print out our betas\n",
    "print(betas)\n",
    "\n",
    "#make a line!\n",
    "line = np.dot(DM,betas)\n",
    "\n",
    "#plot the line!\n",
    "plt.plot(Xtrain,line,c='red')\n",
    "plt.scatter(Xtrain,ytrain)\n",
    "plt.show()"
   ]
  },
  {
   "cell_type": "markdown",
   "id": "chemical-combat",
   "metadata": {},
   "source": [
    "---\n",
    "---\n",
    "# Study of the bias in this case\n",
    "\n",
    "If we repeat this process many times, we can get an estimate of the bias.  Note that here we are including the outlier in the training data, which allows us to show how often we can get a good fit. \n"
   ]
  },
  {
   "cell_type": "code",
   "execution_count": 6,
   "id": "every-stuart",
   "metadata": {},
   "outputs": [
    {
     "name": "stdout",
     "output_type": "stream",
     "text": [
      "Training loss:\n",
      " 2.0141085531589667e-05\n",
      "oops, singular matrix!\n",
      "oops, singular matrix!\n",
      "oops, singular matrix!\n",
      "oops, singular matrix!\n",
      "Mean bias-squared:\n",
      " 0.07476779966699298\n"
     ]
    },
    {
     "data": {
      "image/png": "[encoded data removed]",
      "text/plain": [
       "<Figure size 720x576 with 1 Axes>"
      ]
     },
     "metadata": {
      "needs_background": "light"
     },
     "output_type": "display_data"
    }
   ],
   "source": [
    "# compute mean squared loss\n",
    "fhat = np.dot(DM,betas)\n",
    "print(\"Training loss:\\n\",np.sum((ytrain-fhat)**2))\n",
    "\n",
    "Ntrials = 100\n",
    "biases = np.zeros(Ntrials)\n",
    "\n",
    "# make many copies of random data and fit them\n",
    "for idx in range(Ntrials):\n",
    "    iX, iy = makeLinearData(nPts,doSort=True,doOutlier=True)\n",
    "    xt[:,0] = iX\n",
    "    iDM = poly.fit_transform(xt)\n",
    "        \n",
    "    try:\n",
    "        ibeta = np.linalg.inv(iDM.T.dot(iDM)).dot(iDM.T).dot(iy)\n",
    "    except np.linalg.LinAlgError as e:\n",
    "        print(\"oops, singular matrix!\")\n",
    "        continue\n",
    "        \n",
    "    fhat = np.dot(iDM,ibeta)\n",
    "    \n",
    "    # compute mean squared loss\n",
    "    biases[idx] = np.sum((iy-fhat)**2)\n",
    "    biases[idx] /= nPts\n",
    "\n",
    "\n",
    "origMeanBias = np.mean(biases)\n",
    "print(\"Mean bias-squared:\\n\",origMeanBias)\n",
    "plt.hist(biases,100)\n",
    "plt.show()"
   ]
  },
  {
   "cell_type": "markdown",
   "id": "inner-plaintiff",
   "metadata": {},
   "source": [
    "---\n",
    "---\n",
    "# Now let's study the variance for this fit\n",
    "\n",
    "We will make more data and compare it to our best fit from our training data sample.  In this case, we will use the MSE as our metric for a good fit."
   ]
  },
  {
   "cell_type": "code",
   "execution_count": 7,
   "id": "constant-office",
   "metadata": {},
   "outputs": [
    {
     "name": "stdout",
     "output_type": "stream",
     "text": [
      "Training loss:\n",
      " 2.0141085531589667e-05\n",
      "Mean variance:\n",
      " 12.95036422660545\n"
     ]
    },
    {
     "data": {
      "image/png": "[encoded data removed]",
      "text/plain": [
       "<Figure size 720x576 with 1 Axes>"
      ]
     },
     "metadata": {
      "needs_background": "light"
     },
     "output_type": "display_data"
    },
    {
     "name": "stdout",
     "output_type": "stream",
     "text": [
      "Total error for unconstrained MSE model:  13.025132026272443\n"
     ]
    }
   ],
   "source": [
    "fhat = np.dot(DM,betas)\n",
    "\n",
    "# compute mean squared loss\n",
    "print(\"Training loss:\\n\",np.sum((ytrain-fhat)**2))\n",
    "\n",
    "losses = np.zeros(Ntrials)\n",
    "\n",
    "xt = np.zeros((Xtrain.size,1))\n",
    "\n",
    "for idx in range(Ntrials):\n",
    "    iX, iy = makeLinearData(nPts,doSort=False,doOutlier=False)\n",
    "    xt[:,0] = iX\n",
    "    iDM = poly.fit_transform(xt)\n",
    "    fhat = np.dot(iDM,betas)\n",
    "    \n",
    "    # compute mean squared loss\n",
    "    losses[idx] = np.sum((iy-fhat)**2)\n",
    "    losses[idx] /= nPts\n",
    "\n",
    "origMeanVar = np.mean(losses)\n",
    "print(\"Mean variance:\\n\",np.mean(losses))\n",
    "plt.hist(losses,100)\n",
    "plt.show()\n",
    "\n",
    "print(\"Total error for unconstrained MSE model: \",origMeanBias+origMeanVar)"
   ]
  },
  {
   "cell_type": "markdown",
   "id": "serious-extension",
   "metadata": {},
   "source": [
    "# Experiment with loss functions and regularization\n",
    "\n",
    "Now let's move over to fitting by hand so that we can introduce different loss functions and add regularization.  In this case we'll compare MSE with Mean Average Error (MAE) for loss functions.  We'll also look at the regularization strength to gain some intuition for how large it should be.\n",
    "\n",
    "A few good questions:\n",
    "  1.  We expect MAE to do better against fitting outliers.  Does it?\n",
    "  2.  How big should the regularization strength be?  Should this give a contribution to the loss that is larger than the MSE or MAE?  Smaller?  Roughly the same size?\n",
    "  3.  Is the combination of MSE or MAE with regularization better?  Why?"
   ]
  },
  {
   "cell_type": "code",
   "execution_count": 10,
   "id": "domestic-meeting",
   "metadata": {},
   "outputs": [
    {
     "name": "stdout",
     "output_type": "stream",
     "text": [
      "iteration 0: loss 0.445065\n",
      "iteration 100000: loss 0.293929\n",
      "iteration 200000: loss 0.312445\n",
      "iteration 300000: loss 0.306085\n",
      "\n",
      "Final Weights:\n",
      " [ 0.05678805  0.3672383   0.07747845 -0.03333625 -0.04994068 -0.03161596\n",
      " -0.00367301  0.02398401  0.04786441  0.0671072 ]\n"
     ]
    },
    {
     "data": {
      "image/png": "[encoded data removed]",
      "text/plain": [
       "<Figure size 720x576 with 1 Axes>"
      ]
     },
     "metadata": {
      "needs_background": "light"
     },
     "output_type": "display_data"
    }
   ],
   "source": [
    "#Linear regression by hand\n",
    "\n",
    "# initialize parameters randomly\n",
    "W = 0.1*np.random.randn(nDegr+1)\n",
    "\n",
    "# some hyperparameters\n",
    "step_size = 0.1  # why not make this 1.0?\n",
    "reg = 0.0 # regularization strength, =0 means no regularization!\n",
    "\n",
    "Niter = 300001\n",
    "\n",
    "doMSE = True\n",
    "\n",
    "# gradient descent loop\n",
    "for i in range(Niter):\n",
    "  \n",
    "    # evaluate function values\n",
    "    # fhat = W^TX +b\n",
    "    fhat = np.dot(DM,W) \n",
    "    \n",
    "    if doMSE:\n",
    "        # compute mean squared loss\n",
    "        data_loss = np.sum((ytrain-fhat)**2)\n",
    "    else: \n",
    "        # compute mean absolute loss\n",
    "        data_loss = np.sum(np.abs(ytrain-fhat))\n",
    "        \n",
    "    data_loss /= nPts\n",
    "    \n",
    "    # This is L2 regularization, see Lecture 5\n",
    "    reg_loss = 0.5*reg*np.sum(W*W)\n",
    "    \n",
    "    # Total loss is the sum\n",
    "    loss = reg_loss + data_loss\n",
    "    \n",
    "    if i % 100000 == 0:\n",
    "        print(\"iteration %d: loss %f\" % (i, loss))\n",
    "    \n",
    "    #compute the loss gradients\n",
    "    if doMSE:\n",
    "        dW = -2*np.dot(DM.T,(ytrain-fhat)) #MSE gradient\n",
    "    else:\n",
    "        dW = -1*np.dot(DM.T,np.sign(ytrain-fhat)) #MAE gradient\n",
    "        \n",
    "    dW /= ytrain.size\n",
    "    \n",
    "    dW += reg*W # regularization gradient\n",
    "\n",
    "    W -= step_size*dW\n",
    "    \n",
    "    \n",
    "#let's see what we got!\n",
    "print(\"\\nFinal Weights:\\n\",W)\n",
    "\n",
    "#make a line!\n",
    "line = np.dot(DM,W)\n",
    "\n",
    "#plot the line!\n",
    "plt.scatter(Xtrain,ytrain)\n",
    "plt.plot(Xtrain,line,c=\"red\")\n",
    "plt.show()"
   ]
  },
  {
   "cell_type": "markdown",
   "id": "remarkable-string",
   "metadata": {},
   "source": [
    "# One final look at variance \n",
    "\n",
    "After we've settled on a loss and regularization scheme, let's recheck our variance.  We know that the bias has gone up once we depart from the \"perfect fit\" scenario, but we hope that variance has gone down by a similar amount."
   ]
  },
  {
   "cell_type": "code",
   "execution_count": 11,
   "id": "blessed-cache",
   "metadata": {},
   "outputs": [
    {
     "name": "stdout",
     "output_type": "stream",
     "text": [
      "Training loss:\n",
      " 5.942576115340892\n",
      "Mean variance:\n",
      " 0.0032198083308498542\n"
     ]
    },
    {
     "data": {
      "image/png": "[encoded data removed]",
      "text/plain": [
       "<Figure size 720x576 with 1 Axes>"
      ]
     },
     "metadata": {
      "needs_background": "light"
     },
     "output_type": "display_data"
    },
    {
     "name": "stdout",
     "output_type": "stream",
     "text": [
      "Total error for unconstrained MSE model:\n",
      " 13.025132026272443\n",
      "Total error for constrained model:\n",
      " 5.945795923671742\n"
     ]
    }
   ],
   "source": [
    "fhat = np.dot(DM,W)\n",
    "\n",
    "# compute mean squared loss\n",
    "train_loss = np.sum((ytrain-fhat)**2)\n",
    "\n",
    "print(\"Training loss:\\n\",train_loss)\n",
    "\n",
    "for idx in range(Ntrials):\n",
    "    iX, iy = makeLinearData(nPts,0,0)\n",
    "    xt[:,0] = iX\n",
    "    iDM = poly.fit_transform(xt)\n",
    "    fhat = np.dot(iDM,W)\n",
    "    \n",
    "    # compute mean squared loss\n",
    "    losses[idx] = np.sum((iy-fhat)**2)\n",
    "    losses[idx] /= nPts     \n",
    "\n",
    "\n",
    "print(\"Mean variance:\\n\",np.mean(losses))\n",
    "plt.hist(losses,100)\n",
    "plt.show()\n",
    "\n",
    "print(\"Total error for unconstrained MSE model:\\n\",origMeanBias+origMeanVar)\n",
    "print(\"Total error for constrained model:\\n\",train_loss+np.mean(losses))"
   ]
  }
 ],
 "metadata": {
  "kernelspec": {
   "display_name": "Python 3",
   "language": "python",
   "name": "python3"
  },
  "language_info": {
   "codemirror_mode": {
    "name": "ipython",
    "version": 3
   },
   "file_extension": ".py",
   "mimetype": "text/x-python",
   "name": "python",
   "nbconvert_exporter": "python",
   "pygments_lexer": "ipython3",
   "version": "3.8.5"
  }
 },
 "nbformat": 4,
 "nbformat_minor": 5
}
